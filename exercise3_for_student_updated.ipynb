{
  "cells": [
    {
      "cell_type": "markdown",
      "metadata": {
        "id": "view-in-github",
        "colab_type": "text"
      },
      "source": [
        "<a href=\"https://colab.research.google.com/github/Schauhan21/AC/blob/main/exercise3_for_student_updated.ipynb\" target=\"_parent\"><img src=\"https://colab.research.google.com/assets/colab-badge.svg\" alt=\"Open In Colab\"/></a>"
      ]
    },
    {
      "cell_type": "markdown",
      "metadata": {
        "id": "a4XwjentHCNH"
      },
      "source": [
        "# Affective Computing - Programming Assignment 3\n",
        "\n",
        "### Objective\n",
        "\n",
        "Your task is to use the **feature-level** method to combine facial expression features and audio features. A **multi-modal emotion recognition system** is constructed to recognize happy versus sadness facial expressions (binary-class problem) by using a classifier training and testing structure.\n",
        "\n",
        "The original data is based on lab1 and lab2, from ten actors acting happy and sadness behaviors. \n",
        "* Task 1: **Subspace-based feature fusion** method: In this case, z-score normalization is utilized. Please read “Fusing Gabor and LBP feature sets for kernel-based face recognition” and learn how to use subspace-based feature fusion method for multi-modal system.\n",
        "\n",
        "* Task 2: Based on Task 1, use **Canonical Correlation Analysis(CCA)** to calculate the correlation coefficients of facial expression and audio features. Finally, use CCA to build a multi-modal emotion recognition system. The method is described in one conference paper “Feature fusion method based on canonical correlation analysis and handwritten character recognition”\n",
        "* Task 3: Based on Task 1, create a **Leave-One-Subject-Out (LOSO) cross-validation** to estimate the performance more reliably.\n",
        "\n",
        "To produce emotion recognition case, Support Vector Machine (SVM) classifiers are trained.  50 videos from 5 participants are used to train the emotion recognition systems by using spatiotemporal features. The rest of the data (50 videos) are used to evaluate the performances of the trained recognition systems."
      ]
    },
    {
      "cell_type": "markdown",
      "metadata": {
        "id": "1QEmNWbdHCNM"
      },
      "source": [
        "## Task 1. Subspace-based method\n",
        "Please read “Fusing Gabor and LBP feature sets for kernel-based face recognition” and apply their framework for the exercise. We use Support Vector Machine (SVM) with linear kernel for classification. As opposed to using Gabor features we are using the prosodic features from the last exercise.\n"
      ]
    },
    {
      "cell_type": "markdown",
      "metadata": {
        "id": "ijFxWcWXHCNN"
      },
      "source": [
        "### Setting up the environment \n",
        "\n",
        "First, we need to import the basic modules for loading the data and data processing"
      ]
    },
    {
      "cell_type": "code",
      "execution_count": null,
      "metadata": {
        "id": "kTg_mAB3HCNN"
      },
      "outputs": [],
      "source": [
        "import sys\n",
        "sys.path.append('../')\n",
        "from skimage import io\n",
        "from skimage import transform\n",
        "from skimage import color\n",
        "from skimage import img_as_ubyte\n",
        "import os\n",
        "import numpy as np\n",
        "import matplotlib.pyplot as plt\n",
        "import matplotlib.patches as patches\n",
        "import sklearn\n",
        "import scipy.io as sio"
      ]
    },
    {
      "cell_type": "markdown",
      "metadata": {
        "id": "n91ek7eZHCNO"
      },
      "source": [
        "### Loading data \n",
        "\n",
        "We load the facial expression data (training data, training class, testing data, testing class) and audio data (training data, testing data)"
      ]
    },
    {
      "cell_type": "code",
      "execution_count": null,
      "metadata": {
        "id": "4Ps4mfJ9HCNP"
      },
      "outputs": [],
      "source": [
        "mdata = sio.loadmat('lab3_data.mat')\n",
        "\n",
        "#Facial expression training and testing data, training and testing class\n",
        "training_data = mdata[\"training_data\"]\n",
        "testing_data = mdata[\"testing_data\"]\n",
        "training_class = np.ravel(mdata[\"training_class\"])\n",
        "testing_class = np.ravel(mdata[\"testing_class\"])\n",
        "\n",
        "#Audio training and testing data\n",
        "training_data_proso = mdata[\"training_data_proso\"]\n",
        "testing_data_proso = mdata[\"testing_data_proso\"]\n",
        "\n"
      ]
    },
    {
      "cell_type": "markdown",
      "metadata": {
        "id": "FzAfDmFZHCNQ"
      },
      "source": [
        "### Extract the subspace for facial expression features and audio features\n",
        "Extract the subspace for facial expression features and audio features using principal component analysis through using __[`sklearn.decomposition.PCA()`](http://scikit-learn.org/stable/modules/generated/sklearn.decomposition.PCA.html)__ function.\n",
        "`reduced_dim` is the dimensionality of the reduced subspace.\n",
        "Set `reduced_dim` to 20 and 15 for facial expression features and audio features, respectively. Normalization should be done sample wise. The test data should be normalized with the values from the training data.\n",
        "For concatenating the features use the __[`np.concatenate()`](https://docs.scipy.org/doc/numpy/reference/generated/numpy.concatenate.html)__ function. Set the random state to be 0. The PCA uses a randomized truncated SVD, meaning that the results may vary depending on the seed."
      ]
    },
    {
      "cell_type": "code",
      "execution_count": null,
      "metadata": {
        "id": "JkcJfVLqHCNR"
      },
      "outputs": [],
      "source": [
        "from sklearn.decomposition import PCA \n",
        "from scipy import stats\n",
        "from sklearn.preprocessing import StandardScaler\n",
        "\n",
        "#Set Reduced_dim for facial expression features and audio features, respectively.\n",
        "reduced_dim_v = 20\n",
        "reduced_dim_a = 15\n",
        "\n",
        "#Extract the subspace for facial expression features though PCA\n",
        "pca_v = PCA(reduced_dim_v, random_state=0) #Random state ensures we get same results on different runs\n",
        "pca_v.fit(training_data)\n",
        "\n",
        "#Transform training_data and testing data respectively\n",
        "training_data_transform = pca_v.transform(training_data)\n",
        "testing_data_transform = pca_v.transform(testing_data)\n",
        "\n",
        "#Extract the subspace for audio features though PCA\n",
        "pca_a = PCA(reduced_dim_a, random_state=0) \n",
        "pca_a.fit(training_data_proso)\n",
        "\n",
        "#Transform the training_data and testing_data respectively\n",
        "training_data_trans = pca_a.transform(training_data_proso)\n",
        "testing_data_trans = pca_a.transform(testing_data_proso)\n",
        "\n",
        "#Normalize the features\n",
        "norm_a = StandardScaler()\n",
        "norm_v = StandardScaler()\n",
        "\n",
        "norm_training_a = norm_a.fit_transform(training_data_trans)\n",
        "norm_testing_a = norm_a.transform(testing_data_trans)\n",
        "norm_training_v = norm_v.fit_transform(training_data_transform)\n",
        "norm_testing_v = norm_v.transform(testing_data_transform)\n",
        "\n",
        "\n",
        "#Concatenate the transformed training data of facial expression features and audio features together\n",
        "combined_train = np.concatenate((norm_training_v, norm_training_a), axis=1)\n",
        "\n",
        "#Concatenate the transformed testing data of facial expression features and audio features together\n",
        "combined_test = np.concatenate((norm_testing_v, norm_testing_a), axis=1)\n",
        "\n"
      ]
    },
    {
      "cell_type": "markdown",
      "metadata": {
        "id": "xnnoRXW-HCNR"
      },
      "source": [
        "### Question 1. Why is PCA used? Why not just concatenate the extracted features without PCA?"
      ]
    },
    {
      "cell_type": "markdown",
      "metadata": {
        "id": "iC7U8tiIHCNS"
      },
      "source": [
        "### Your answer:"
      ]
    },
    {
      "cell_type": "markdown",
      "metadata": {
        "id": "sNiMyhMsHCNS"
      },
      "source": [
        "PCA is useful to reduce dimension without losing data or information. Using concatenate will result in curse of dimensionality which do not occur in low dimension."
      ]
    },
    {
      "cell_type": "markdown",
      "metadata": {
        "id": "-XFhi922HCNT"
      },
      "source": [
        "### Feature classification\n",
        "Use the __[`SVM`](http://scikit-learn.org/stable/modules/svm.html)__ function to train Support Vector Machine (SVM) classifiers.\n",
        "Construct a SVM using the combined training data and linear kernel. The `training_class` group vector contains the class of samples: 1 = happy, 2 = sadness, corresponding to the rows of the training data matrices.\n",
        "\n",
        "Then, calculate average classification performances for both training and testing data. The correct class labels corresponding with the rows of the training and testing data matrices are in the variables ‘training_class’ and ‘testing_class’, respectively."
      ]
    },
    {
      "cell_type": "code",
      "execution_count": null,
      "metadata": {
        "colab": {
          "base_uri": "https://localhost:8080/"
        },
        "id": "u0Ynh9cdHCNT",
        "outputId": "010c3a5e-9686-4ed8-a74c-c9c5a1c55970"
      },
      "outputs": [
        {
          "output_type": "stream",
          "name": "stdout",
          "text": [
            "0.98\n",
            "1.0\n"
          ]
        }
      ],
      "source": [
        "from sklearn import svm\n",
        "from sklearn.metrics import accuracy_score\n",
        "# Train SVM classifier\n",
        "classifier = svm.SVC(kernel=\"linear\")\n",
        "classifier.fit(combined_train, training_class)\n",
        "\n",
        "#The prediction results\n",
        "predict_train = classifier.predict(combined_train)\n",
        "predict_test = classifier.predict(combined_test)\n",
        "\n",
        "#Calculate and print the training accuracy and testing accuracy. \n",
        "testing_acc = accuracy_score(testing_class, predict_test)\n",
        "print(testing_acc)\n",
        "\n",
        "training_acc = accuracy_score(training_class, predict_train)\n",
        "print(training_acc)\n",
        "\n"
      ]
    },
    {
      "cell_type": "markdown",
      "metadata": {
        "id": "I3-YX9aSHCNU"
      },
      "source": [
        "Compute the confusion matrices using __[`sklearn.metrics.confusion_matrix()`](http://scikit-learn.org/stable/modules/generated/sklearn.decomposition.PCA.html)__function for both the training data and testing data."
      ]
    },
    {
      "cell_type": "code",
      "execution_count": null,
      "metadata": {
        "colab": {
          "base_uri": "https://localhost:8080/"
        },
        "id": "H8dNT2B5HCNU",
        "outputId": "79b552b4-b6c4-4e76-b3d5-3774eac9d652"
      },
      "outputs": [
        {
          "output_type": "stream",
          "name": "stdout",
          "text": [
            "[[25  0]\n",
            " [ 0 25]]\n",
            "[[25  0]\n",
            " [ 1 24]]\n"
          ]
        }
      ],
      "source": [
        "from sklearn.metrics import confusion_matrix\n",
        "print(confusion_matrix(training_class, predict_train))\n",
        "\n",
        "print(confusion_matrix(testing_class, predict_test))\n"
      ]
    },
    {
      "cell_type": "markdown",
      "metadata": {
        "id": "PO12DywSHCNV"
      },
      "source": [
        "## Task 2. \n",
        "As opposed to a simple concatenation we can try something smarter that utilizes the common characteristics of the fused features. This is achieved using the CCA. Use the PCA transformed vectors and set the number of components for the CCA to be 15.\n"
      ]
    },
    {
      "cell_type": "markdown",
      "metadata": {
        "id": "RKGvFvbVHCNV"
      },
      "source": [
        "Use (__[`sklearn.cross_decomposition.CCA()`](http://scikit-learn.org/stable/modules/generated/sklearn.cross_decomposition.CCA.html)__) function to calculate the correlation coefficients of facial expression features and audio features. For `n_components` of CCA use the same number as the reduced dimensionality of the audio features in the previous task."
      ]
    },
    {
      "cell_type": "code",
      "execution_count": null,
      "metadata": {
        "id": "8ac9bUF3HCNV"
      },
      "outputs": [],
      "source": [
        "from sklearn.cross_decomposition import CCA\n",
        "import numpy as np\n",
        "\n",
        "#Use CCA to construct the Canonical Projective Vector (CPV)\n",
        "cca = CCA(15)\n",
        "cca.fit(training_data_transform, training_data_trans)\n",
        "\n",
        "#Construct Canonical Correlation Discriminant Features (CCDF) for both the training data and testing data\n",
        "train_v_cca, train_a_cca = cca.transform(training_data_transform, training_data_trans)\n",
        "test_v_cca, test_a_cca = cca.transform(testing_data_transform, testing_data_trans)\n",
        "\n",
        "\n",
        "# Concatenate the CCA transformed features for training data and testing data\n",
        "combined_train_cca = np.concatenate((train_v_cca, train_a_cca), axis=1)\n",
        "combined_test_cca = np.concatenate((test_v_cca, test_a_cca), axis=1)\n"
      ]
    },
    {
      "cell_type": "markdown",
      "metadata": {
        "id": "DMEMBwO6HCNW"
      },
      "source": [
        "Train a SVM classifier using a linear kernel, print the training and testing accuracy and compute the confusion matrix."
      ]
    },
    {
      "cell_type": "code",
      "execution_count": null,
      "metadata": {
        "colab": {
          "base_uri": "https://localhost:8080/"
        },
        "id": "3js3Nd5lHCNW",
        "outputId": "196af2b9-1928-4761-f13d-7c1195d19325"
      },
      "outputs": [
        {
          "output_type": "stream",
          "name": "stdout",
          "text": [
            "1.0\n",
            "0.92\n",
            "[[25  0]\n",
            " [ 0 25]]\n"
          ]
        }
      ],
      "source": [
        "from sklearn.metrics import confusion_matrix\n",
        "# Train SVM classifier\n",
        "classifier = svm.SVC(kernel=\"linear\")\n",
        "classifier.fit(combined_train_cca, training_class)\n",
        "\n",
        "#The prediction results\n",
        "predict_train = classifier.predict(combined_train_cca)\n",
        "predict_test = classifier.predict(combined_test_cca)\n",
        "\n",
        "#Calculate and print the training accuracy and testing accuracy. \n",
        "from sklearn.metrics import accuracy_score\n",
        "\n",
        "training_acc = accuracy_score(training_class, predict_train)\n",
        "print(training_acc)\n",
        "\n",
        "testing_acc = accuracy_score(testing_class, predict_test)\n",
        "print(testing_acc)\n",
        "\n",
        "print(confusion_matrix(training_class, predict_train))\n"
      ]
    },
    {
      "cell_type": "markdown",
      "metadata": {
        "id": "IYO8AFQmHCNW"
      },
      "source": [
        "### Question 2. In this exercise a feature-level method was used to fuse the features. What are the other types of methods for data fusion?"
      ]
    },
    {
      "cell_type": "markdown",
      "metadata": {
        "id": "DfzMrZ9JHCNW"
      },
      "source": [
        "### Your answer:"
      ]
    },
    {
      "cell_type": "markdown",
      "metadata": {
        "id": "h9QwQC_THCNX"
      },
      "source": [
        "Model-level, decision-level, match-score-level and sensor-level."
      ]
    },
    {
      "cell_type": "markdown",
      "metadata": {
        "id": "KmC37CqrHCNX"
      },
      "source": [
        "### Question 3. Compare the results from all the the different methods from assignments 1, 2 and 3. What method performed the best? What was the worst? Hypothesize as to why certain methods performed better than others."
      ]
    },
    {
      "cell_type": "markdown",
      "metadata": {
        "id": "vnN6zwpsHCNX"
      },
      "source": [
        "### Your answer:"
      ]
    },
    {
      "cell_type": "markdown",
      "metadata": {
        "id": "ovZ2wl75HCNX"
      },
      "source": [
        ""
      ]
    },
    {
      "cell_type": "markdown",
      "metadata": {
        "id": "7WWe0SdIHCNX"
      },
      "source": [
        "## Task 3: \n",
        "For a more reliable evaluation, often the **Leave-One-Subject-Out (LOSO) cross-validation** is used instead of the common train-test split. Cross-validation gives us a more reliable measure of the performance as all of the data is used for both training and testing. LOSO is used as emotions are highly dependent on the subject. By using LOSO, we guarantee that a subject is always in either the training or testing data and not in both.\n",
        "\n",
        "* Join the training/testing data matrices and the class vectors. Combine also the ‘training_personID’ and ‘testing_personID’ vectors.\n",
        "\n",
        "* Assume we have a total of $n$ subjects. Now, we will create a total of $n$ folds (loops), where each folds' training set contains the data from $n-1$ subjects and the testing set consists of only $1$ subject.\n",
        "\n",
        "* Follow the steps taken in the first task: project the data to a subspace using PCA, conatenate the audio and video features together, train an SVM and finally evaluate the performance.\n",
        "\n",
        "* The solution should be able to generalize over different numbers of subjects and samples, *e.g.*, a dataset may have 24 subjects, where subject1 has 4 samples and subject2 has 32 samples."
      ]
    },
    {
      "cell_type": "code",
      "execution_count": null,
      "metadata": {
        "colab": {
          "base_uri": "https://localhost:8080/"
        },
        "id": "sN0gOjPFHCNY",
        "outputId": "d3078156-0d56-42b7-eda5-0994d79d8e14"
      },
      "outputs": [
        {
          "output_type": "stream",
          "name": "stdout",
          "text": [
            "Shape of video_data: (100, 708)\n",
            "Shape of proso_data: (100, 15)\n",
            "Shape of labels: (100,)\n",
            "Shape of subjects: (100,)\n",
            "Value of subject_ids: [ 1  2  3  4  5  7  8  9 10 12]\n"
          ]
        }
      ],
      "source": [
        "mdata = sio.loadmat('lab3_data.mat')\n",
        "\n",
        "#Combine the training data, testing data, labels and person ID for video and audio respectively,\n",
        "#in order to get the whole dataset. \n",
        "video_data = np.append(mdata[\"training_data\"], mdata[\"testing_data\"], axis=0)\n",
        "proso_data = np.append(mdata[\"training_data_proso\"], mdata[\"testing_data_proso\"], axis=0)\n",
        "\n",
        "labels = np.append(np.ravel(mdata[\"training_class\"]), np.ravel(mdata[\"testing_class\"]), axis=0)\n",
        "subjects = np.append(np.ravel(mdata[\"training_personID\"]), np.ravel(mdata[\"testing_personID\"]), axis=0)\n",
        "\n",
        "#Get the number of the subject\n",
        "subject_ids = np.unique(subjects)\n",
        "\n",
        "#Print the shapes and the list of subject_ids for a sanity check\n",
        "print(\"Shape of video_data:\", video_data.shape)\n",
        "print(\"Shape of proso_data:\", proso_data.shape)\n",
        "print(\"Shape of labels:\", labels.shape)\n",
        "print(\"Shape of subjects:\", subjects.shape)\n",
        "print(\"Value of subject_ids:\", subject_ids)\n"
      ]
    },
    {
      "cell_type": "code",
      "execution_count": null,
      "metadata": {
        "colab": {
          "base_uri": "https://localhost:8080/"
        },
        "id": "ufx7JolGHCNY",
        "outputId": "189622cd-6f50-44ac-cb26-eb420f7e2033"
      },
      "outputs": [
        {
          "output_type": "stream",
          "name": "stdout",
          "text": [
            "List of Accuracies:  [0.9, 0.8, 1.0, 0.9, 0.9, 1.0, 1.0, 1.0, 0.8, 1.0]\n",
            "Mean:  0.93\n"
          ]
        }
      ],
      "source": [
        "accuracies = []\n",
        "#Loop over each subject\n",
        "for subject_id in subject_ids:\n",
        "    #Create a boolean array for the training and testing set indices\n",
        "    #The train_idx should be a list of form [True, True, False, ...], where True indicates the position\n",
        "    #for the samples that are not the current subject_id\n",
        "    train_idx = [False if subject_id==subject else True for subject in subjects]\n",
        "    #Similar for the test_idx, True indicates the position of the current subject_id\n",
        "    test_idx = [True if subject_id==subject else False for subject in subjects]\n",
        "    \n",
        "    #Create the training and testing sets for lbp, proso and labels by indexing lbp_data, proso_data and labels\n",
        "    #with the boolean arrays train_idx and test_idx\n",
        "    \n",
        "    lbp_data_train = np.delete(video_data, test_idx, axis=0)\n",
        "    proso_data_train = np.delete(proso_data, test_idx, axis=0)\n",
        "    labels_train = np.delete(labels, test_idx, axis=0)\n",
        "    \n",
        "    lbp_data_test = np.delete(video_data, train_idx, axis=0)\n",
        "    proso_data_test = np.delete(proso_data, train_idx, axis=0)\n",
        "    labels_test = np.delete(labels, train_idx, axis=0)\n",
        "    \n",
        "    #Create the PCA for both lbp and proso. We take a slight shortcut compared to task 1,\n",
        "    #by using the whiten=True parameter for normalizing the features. This means that\n",
        "    #there is no need for normalization afterwards\n",
        "    pca_v = PCA(n_components=20, whiten=True, random_state=0)\n",
        "    pca_a = PCA(n_components=15, whiten=True, random_state=0)\n",
        "    \n",
        "    #Fit the PCAs with the training data\n",
        "    pca_v.fit(lbp_data_train)\n",
        "    pca_a.fit(proso_data_train)\n",
        "    \n",
        "    #Transform both the training and testing data with the PCA\n",
        "    lbp_data_train_pca = pca_v.transform(lbp_data_train)\n",
        "    proso_data_train_pca = pca_a.transform(proso_data_train)\n",
        "    lbp_data_test_pca = pca_v.transform(lbp_data_test)\n",
        "    proso_data_test_pca = pca_a.transform(proso_data_test)\n",
        "    \n",
        "    #Concatenate the features together\n",
        "    train_combined = np.concatenate((lbp_data_train_pca, proso_data_train_pca), axis=1) \n",
        "    test_combined = np.concatenate((lbp_data_test_pca, proso_data_test_pca), axis=1)\n",
        "    \n",
        "    #Create a linear SVM and train it\n",
        "    classifier = svm.SVC(kernel=\"linear\")\n",
        "    classifier.fit(train_combined, labels_train)\n",
        "    \n",
        "    #Calculate the accuracy for the testing data and add it to the list of accuracies\n",
        "    predict_test = classifier.predict(test_combined)\n",
        "    accuracies.append(accuracy_score(labels_test, predict_test))\n",
        "    \n",
        "#Calculate the average of the accuracies. Print both the list of accuracies and the average    \n",
        "print(\"List of Accuracies: \", accuracies)\n",
        "print(\"Mean: \", np.mean(accuracies))"
      ]
    },
    {
      "cell_type": "markdown",
      "metadata": {
        "id": "szc7wogHHCNY"
      },
      "source": [
        "### Question 4. The accuracy of LOSO (0.93) is lower than the accuracy achieved by the train-test split (0.98) in task 1. Hypothesize as to why the two are different. Which one is better for evaluation?"
      ]
    },
    {
      "cell_type": "markdown",
      "metadata": {
        "id": "9-lJDwukHCNY"
      },
      "source": [
        "### Your answer:"
      ]
    },
    {
      "cell_type": "markdown",
      "metadata": {
        "id": "aaEVOWrpHCNZ"
      },
      "source": [
        "LOSO is better at evaluation because the test subjects are test classes and not subjected to training. "
      ]
    }
  ],
  "metadata": {
    "kernelspec": {
      "display_name": "Python 3",
      "language": "python",
      "name": "python3"
    },
    "language_info": {
      "codemirror_mode": {
        "name": "ipython",
        "version": 3
      },
      "file_extension": ".py",
      "mimetype": "text/x-python",
      "name": "python",
      "nbconvert_exporter": "python",
      "pygments_lexer": "ipython3",
      "version": "3.6.4"
    },
    "colab": {
      "name": "exercise3_for_student_updated.ipynb",
      "provenance": [],
      "include_colab_link": true
    }
  },
  "nbformat": 4,
  "nbformat_minor": 0
}